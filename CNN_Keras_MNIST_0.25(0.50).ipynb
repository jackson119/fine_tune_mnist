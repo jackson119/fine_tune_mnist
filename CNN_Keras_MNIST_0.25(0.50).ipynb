{
  "nbformat": 4,
  "nbformat_minor": 0,
  "metadata": {
    "colab": {
      "name": "Copy of CNN_Keras_MNIST_0.25(0.50).ipynb",
      "provenance": [],
      "collapsed_sections": []
    },
    "kernelspec": {
      "name": "python3",
      "display_name": "Python 3"
    },
    "accelerator": "GPU"
  },
  "cells": [
    {
      "cell_type": "code",
      "metadata": {
        "colab": {
          "base_uri": "https://localhost:8080/"
        },
        "id": "0EWb0Ckz0RBX",
        "outputId": "a35286a8-2c8a-4c5c-a3da-0fe4afcb6f84"
      },
      "source": [
        "!pip install tensorflow==1.0.1"
      ],
      "execution_count": 1,
      "outputs": [
        {
          "output_type": "stream",
          "text": [
            "Collecting tensorflow==1.0.1\n",
            "\u001b[?25l  Downloading https://files.pythonhosted.org/packages/fd/1a/7935eb82b9a9b89a3a8ef7e54f7d538698c85d248d8bedb533eab5afd293/tensorflow-1.0.1-cp36-cp36m-manylinux1_x86_64.whl (44.5MB)\n",
            "\u001b[K     |████████████████████████████████| 44.5MB 71kB/s \n",
            "\u001b[?25hRequirement already satisfied: protobuf>=3.1.0 in /usr/local/lib/python3.6/dist-packages (from tensorflow==1.0.1) (3.12.4)\n",
            "Requirement already satisfied: six>=1.10.0 in /usr/local/lib/python3.6/dist-packages (from tensorflow==1.0.1) (1.15.0)\n",
            "Requirement already satisfied: wheel>=0.26 in /usr/local/lib/python3.6/dist-packages (from tensorflow==1.0.1) (0.36.2)\n",
            "Requirement already satisfied: numpy>=1.11.0 in /usr/local/lib/python3.6/dist-packages (from tensorflow==1.0.1) (1.19.5)\n",
            "Requirement already satisfied: setuptools in /usr/local/lib/python3.6/dist-packages (from protobuf>=3.1.0->tensorflow==1.0.1) (51.3.3)\n",
            "Installing collected packages: tensorflow\n",
            "  Found existing installation: tensorflow 2.4.1\n",
            "    Uninstalling tensorflow-2.4.1:\n",
            "      Successfully uninstalled tensorflow-2.4.1\n",
            "Successfully installed tensorflow-1.0.1\n"
          ],
          "name": "stdout"
        }
      ]
    },
    {
      "cell_type": "code",
      "metadata": {
        "colab": {
          "base_uri": "https://localhost:8080/"
        },
        "id": "4bXim8PjAu-F",
        "outputId": "cacca33e-eb8a-44da-e710-5c4776507af0"
      },
      "source": [
        "!pip install keras==2.0.2"
      ],
      "execution_count": 2,
      "outputs": [
        {
          "output_type": "stream",
          "text": [
            "Collecting keras==2.0.2\n",
            "\u001b[?25l  Downloading https://files.pythonhosted.org/packages/0f/00/ffbeaa7185c5e6ea49e982d804f7e388908916eceb2a8c8a9ed0bd5cf045/Keras-2.0.2.tar.gz (192kB)\n",
            "\r\u001b[K     |█▊                              | 10kB 18.9MB/s eta 0:00:01\r\u001b[K     |███▍                            | 20kB 21.9MB/s eta 0:00:01\r\u001b[K     |█████                           | 30kB 15.9MB/s eta 0:00:01\r\u001b[K     |██████▉                         | 40kB 13.8MB/s eta 0:00:01\r\u001b[K     |████████▌                       | 51kB 9.1MB/s eta 0:00:01\r\u001b[K     |██████████▏                     | 61kB 9.8MB/s eta 0:00:01\r\u001b[K     |████████████                    | 71kB 8.7MB/s eta 0:00:01\r\u001b[K     |█████████████▋                  | 81kB 9.7MB/s eta 0:00:01\r\u001b[K     |███████████████▎                | 92kB 10.0MB/s eta 0:00:01\r\u001b[K     |█████████████████               | 102kB 8.7MB/s eta 0:00:01\r\u001b[K     |██████████████████▊             | 112kB 8.7MB/s eta 0:00:01\r\u001b[K     |████████████████████▍           | 122kB 8.7MB/s eta 0:00:01\r\u001b[K     |██████████████████████          | 133kB 8.7MB/s eta 0:00:01\r\u001b[K     |███████████████████████▉        | 143kB 8.7MB/s eta 0:00:01\r\u001b[K     |█████████████████████████▌      | 153kB 8.7MB/s eta 0:00:01\r\u001b[K     |███████████████████████████▏    | 163kB 8.7MB/s eta 0:00:01\r\u001b[K     |████████████████████████████▉   | 174kB 8.7MB/s eta 0:00:01\r\u001b[K     |██████████████████████████████▋ | 184kB 8.7MB/s eta 0:00:01\r\u001b[K     |████████████████████████████████| 194kB 8.7MB/s \n",
            "\u001b[?25hRequirement already satisfied: theano in /usr/local/lib/python3.6/dist-packages (from keras==2.0.2) (1.0.5)\n",
            "Requirement already satisfied: pyyaml in /usr/local/lib/python3.6/dist-packages (from keras==2.0.2) (3.13)\n",
            "Requirement already satisfied: six in /usr/local/lib/python3.6/dist-packages (from keras==2.0.2) (1.15.0)\n",
            "Requirement already satisfied: numpy>=1.9.1 in /usr/local/lib/python3.6/dist-packages (from theano->keras==2.0.2) (1.19.5)\n",
            "Requirement already satisfied: scipy>=0.14 in /usr/local/lib/python3.6/dist-packages (from theano->keras==2.0.2) (1.4.1)\n",
            "Building wheels for collected packages: keras\n",
            "  Building wheel for keras (setup.py) ... \u001b[?25l\u001b[?25hdone\n",
            "  Created wheel for keras: filename=Keras-2.0.2-cp36-none-any.whl size=228896 sha256=363c9e696f2dc5a9da0002ae24bc225928c493be103f35d7ddddc47a5f79a5f6\n",
            "  Stored in directory: /root/.cache/pip/wheels/78/38/73/74028957a9c42049a56878c4bb8a2c732c3e205f599fb9b384\n",
            "Successfully built keras\n",
            "\u001b[31mERROR: textgenrnn 1.4.1 has requirement keras>=2.1.5, but you'll have keras 2.0.2 which is incompatible.\u001b[0m\n",
            "Installing collected packages: keras\n",
            "  Found existing installation: Keras 2.4.3\n",
            "    Uninstalling Keras-2.4.3:\n",
            "      Successfully uninstalled Keras-2.4.3\n",
            "Successfully installed keras-2.0.2\n"
          ],
          "name": "stdout"
        }
      ]
    },
    {
      "cell_type": "code",
      "metadata": {
        "colab": {
          "base_uri": "https://localhost:8080/",
          "height": 227
        },
        "id": "eN0WzppNG49r",
        "outputId": "82822374-3e70-458a-b2bc-ee203999476e"
      },
      "source": [
        "import tensorflow as tf\r\n",
        "tf.__version__"
      ],
      "execution_count": 1,
      "outputs": [
        {
          "output_type": "stream",
          "text": [
            "/usr/local/lib/python3.6/dist-packages/tensorflow/python/framework/dtypes.py:455: FutureWarning: Passing (type, 1) or '1type' as a synonym of type is deprecated; in a future version of numpy, it will be understood as (type, (1,)) / '(1,)type'.\n",
            "  _np_qint8 = np.dtype([(\"qint8\", np.int8, 1)])\n",
            "/usr/local/lib/python3.6/dist-packages/tensorflow/python/framework/dtypes.py:456: FutureWarning: Passing (type, 1) or '1type' as a synonym of type is deprecated; in a future version of numpy, it will be understood as (type, (1,)) / '(1,)type'.\n",
            "  _np_quint8 = np.dtype([(\"quint8\", np.uint8, 1)])\n",
            "/usr/local/lib/python3.6/dist-packages/tensorflow/python/framework/dtypes.py:457: FutureWarning: Passing (type, 1) or '1type' as a synonym of type is deprecated; in a future version of numpy, it will be understood as (type, (1,)) / '(1,)type'.\n",
            "  _np_qint16 = np.dtype([(\"qint16\", np.int16, 1)])\n",
            "/usr/local/lib/python3.6/dist-packages/tensorflow/python/framework/dtypes.py:458: FutureWarning: Passing (type, 1) or '1type' as a synonym of type is deprecated; in a future version of numpy, it will be understood as (type, (1,)) / '(1,)type'.\n",
            "  _np_quint16 = np.dtype([(\"quint16\", np.uint16, 1)])\n",
            "/usr/local/lib/python3.6/dist-packages/tensorflow/python/framework/dtypes.py:459: FutureWarning: Passing (type, 1) or '1type' as a synonym of type is deprecated; in a future version of numpy, it will be understood as (type, (1,)) / '(1,)type'.\n",
            "  _np_qint32 = np.dtype([(\"qint32\", np.int32, 1)])\n"
          ],
          "name": "stderr"
        },
        {
          "output_type": "execute_result",
          "data": {
            "application/vnd.google.colaboratory.intrinsic+json": {
              "type": "string"
            },
            "text/plain": [
              "'1.0.1'"
            ]
          },
          "metadata": {
            "tags": []
          },
          "execution_count": 1
        }
      ]
    },
    {
      "cell_type": "code",
      "metadata": {
        "colab": {
          "base_uri": "https://localhost:8080/",
          "height": 52
        },
        "id": "4WIrJvxnG5Wb",
        "outputId": "a8bc9d2f-6675-499a-8a26-23729d3c5657"
      },
      "source": [
        "import keras \r\n",
        "keras.__version__"
      ],
      "execution_count": 2,
      "outputs": [
        {
          "output_type": "stream",
          "text": [
            "Using TensorFlow backend.\n"
          ],
          "name": "stderr"
        },
        {
          "output_type": "execute_result",
          "data": {
            "application/vnd.google.colaboratory.intrinsic+json": {
              "type": "string"
            },
            "text/plain": [
              "'2.0.2'"
            ]
          },
          "metadata": {
            "tags": []
          },
          "execution_count": 2
        }
      ]
    },
    {
      "cell_type": "code",
      "metadata": {
        "id": "8Wt9HnrPAwoi"
      },
      "source": [
        "from keras.datasets import mnist \r\n",
        "from keras.utils import np_utils \r\n",
        "import numpy as np\r\n",
        "np.random.seed(10)"
      ],
      "execution_count": 3,
      "outputs": []
    },
    {
      "cell_type": "markdown",
      "metadata": {
        "id": "bKd7HPHzCJf5"
      },
      "source": [
        "#### **doing preprocessing for CNN**\r\n",
        "\r\n",
        "\r\n",
        "1.   Import all the library that are required.\r\n",
        "2.   Read the MNIST dataset.\r\n",
        "3.   Convert the features into   6000* 28* 28 *1 (4 vectors).\r\n",
        "4.   Standardize the features by dividing 255.\r\n",
        "5.   Convert  all of the labels into one hot encoding."
      ]
    },
    {
      "cell_type": "code",
      "metadata": {
        "id": "Bm3qJLpNBT8c",
        "colab": {
          "base_uri": "https://localhost:8080/"
        },
        "outputId": "7e3cef9e-016d-4d42-b905-0da48d57a4a6"
      },
      "source": [
        "(x_Train,y_Train),(x_Test,y_Test)=mnist.load_data()"
      ],
      "execution_count": 4,
      "outputs": [
        {
          "output_type": "stream",
          "text": [
            "Downloading data from https://s3.amazonaws.com/img-datasets/mnist.npz\n"
          ],
          "name": "stdout"
        }
      ]
    },
    {
      "cell_type": "code",
      "metadata": {
        "colab": {
          "base_uri": "https://localhost:8080/"
        },
        "id": "GQuXA1iaAw6I",
        "outputId": "af632adc-9b48-43a9-c63e-054250923162"
      },
      "source": [
        "print(x_Train.shape)\r\n",
        "print(y_Train.shape)\r\n",
        "print(x_Test.shape)\r\n",
        "print(y_Test)\r\n"
      ],
      "execution_count": 5,
      "outputs": [
        {
          "output_type": "stream",
          "text": [
            "(60000, 28, 28)\n",
            "(60000,)\n",
            "(10000, 28, 28)\n",
            "[7 2 1 ... 4 5 6]\n"
          ],
          "name": "stdout"
        }
      ]
    },
    {
      "cell_type": "code",
      "metadata": {
        "id": "diWeHnWKBbWJ"
      },
      "source": [
        "#### unlike multi-layer perceptron cnn needs to maintain the training and testing data shape.\r\n",
        "x_Train4D=x_Train.reshape(x_Train.shape[0],28,28,1).astype('float32') ### only use one color so 1\r\n",
        "x_Test4D=x_Test.reshape(x_Test.shape[0],28,28,1).astype('float32')    ### only use one color so 1"
      ],
      "execution_count": 6,
      "outputs": []
    },
    {
      "cell_type": "code",
      "metadata": {
        "colab": {
          "base_uri": "https://localhost:8080/"
        },
        "id": "DCp5v5rCBhTn",
        "outputId": "6f99484c-708f-43d0-a819-25cd16d78a51"
      },
      "source": [
        "x_Train4D.shape"
      ],
      "execution_count": 7,
      "outputs": [
        {
          "output_type": "execute_result",
          "data": {
            "text/plain": [
              "(60000, 28, 28, 1)"
            ]
          },
          "metadata": {
            "tags": []
          },
          "execution_count": 7
        }
      ]
    },
    {
      "cell_type": "code",
      "metadata": {
        "id": "YWrK0aCjC-du"
      },
      "source": [
        "x_Train4D_normalise=x_Train4D/255\r\n",
        "x_Test4D_normalise=x_Test4D/255"
      ],
      "execution_count": 8,
      "outputs": []
    },
    {
      "cell_type": "code",
      "metadata": {
        "id": "wORLJ00vB_GP"
      },
      "source": [
        "y_TrainOneHot=np_utils.to_categorical(y_Train)\r\n",
        "y_TestOnheHot=np_utils.to_categorical(y_Test)"
      ],
      "execution_count": 9,
      "outputs": []
    },
    {
      "cell_type": "markdown",
      "metadata": {
        "id": "h834i_5cDXxy"
      },
      "source": [
        "### **Getting Started for Convolutional Neural Networks**"
      ]
    },
    {
      "cell_type": "code",
      "metadata": {
        "id": "CZI1PV4kDdbq"
      },
      "source": [
        "from keras.models import Sequential\r\n",
        "from keras.layers import Dense,Dropout,Flatten,Conv2D,MaxPooling2D"
      ],
      "execution_count": 10,
      "outputs": []
    },
    {
      "cell_type": "code",
      "metadata": {
        "id": "XzvlJhW3ELNR"
      },
      "source": [
        "model=Sequential()  "
      ],
      "execution_count": 11,
      "outputs": []
    },
    {
      "cell_type": "code",
      "metadata": {
        "id": "QEVndaFZET-7"
      },
      "source": [
        "#### convolution layer 1 \r\n",
        "### create 16 kernel with the size of 5 *5\r\n",
        "### all of the features will have the same padding\r\n",
        "### (input shape will have 28*28 and  because the input image is gray scale so in the parameter parenthesis it is 1.)\r\n",
        "model.add(Conv2D(filters=16,kernel_size=(5,5),padding='same',input_shape=(28,28,1),activation='relu'))"
      ],
      "execution_count": 12,
      "outputs": []
    },
    {
      "cell_type": "code",
      "metadata": {
        "id": "QZPxhxDVEv8w"
      },
      "source": [
        "### max pooling 1 (it will take all the 16 images with the size of 28*28 to downsample into the size of 14*14 )\r\n",
        "model.add(MaxPooling2D(pool_size=(2,2)))"
      ],
      "execution_count": 13,
      "outputs": []
    },
    {
      "cell_type": "code",
      "metadata": {
        "id": "Fy0JlySmE7jP"
      },
      "source": [
        "### convolution layer 2 convolution will adding more number of images but it will not affect the size of images.\r\n",
        "### The size of images will affect unless it undergo the pooling layer.\r\n",
        "model.add(Conv2D(filters=36,kernel_size=(5,5),padding='same',activation='relu'))"
      ],
      "execution_count": 14,
      "outputs": []
    },
    {
      "cell_type": "code",
      "metadata": {
        "id": "u6P_FfuKGcZB"
      },
      "source": [
        "### pooling layer 2  this is to downsample 36 numbers of images with the size of 14 *14  into the size of 7*7\r\n",
        "model.add(MaxPooling2D(pool_size=(2,2)))\r\n"
      ],
      "execution_count": 15,
      "outputs": []
    },
    {
      "cell_type": "code",
      "metadata": {
        "id": "xZqrX8SBGc3Q"
      },
      "source": [
        "model.add(Dropout(0.50)) ## add dropout parameter in pooling layer 2"
      ],
      "execution_count": 16,
      "outputs": []
    },
    {
      "cell_type": "code",
      "metadata": {
        "id": "eI3zq6UTGq4q"
      },
      "source": [
        "### construct flatten layer. 36*7*7=1764\r\n",
        "### change to vectors.\r\n",
        "model.add(Flatten())"
      ],
      "execution_count": 17,
      "outputs": []
    },
    {
      "cell_type": "code",
      "metadata": {
        "id": "2dLI8b-cKtNs"
      },
      "source": [
        "### hidden layer\r\n",
        "model.add(Dense(128,activation='relu'))"
      ],
      "execution_count": 18,
      "outputs": []
    },
    {
      "cell_type": "code",
      "metadata": {
        "id": "8tFTD81oK1_f"
      },
      "source": [
        "model.add(Dropout(0.5))"
      ],
      "execution_count": 19,
      "outputs": []
    },
    {
      "cell_type": "code",
      "metadata": {
        "id": "uHRSI-sbK6L7"
      },
      "source": [
        "### output layer\r\n",
        "model.add(Dense(10,activation='softmax'))"
      ],
      "execution_count": 20,
      "outputs": []
    },
    {
      "cell_type": "code",
      "metadata": {
        "colab": {
          "base_uri": "https://localhost:8080/"
        },
        "id": "SKoEtzeWLEDV",
        "outputId": "4982452e-10c6-4263-8f39-0118d70a87b7"
      },
      "source": [
        "print(model.summary())"
      ],
      "execution_count": 21,
      "outputs": [
        {
          "output_type": "stream",
          "text": [
            "_________________________________________________________________\n",
            "Layer (type)                 Output Shape              Param #   \n",
            "=================================================================\n",
            "conv2d_1 (Conv2D)            (None, 28, 28, 16)        416       \n",
            "_________________________________________________________________\n",
            "max_pooling2d_1 (MaxPooling2 (None, 14, 14, 16)        0         \n",
            "_________________________________________________________________\n",
            "conv2d_2 (Conv2D)            (None, 14, 14, 36)        14436     \n",
            "_________________________________________________________________\n",
            "max_pooling2d_2 (MaxPooling2 (None, 7, 7, 36)          0         \n",
            "_________________________________________________________________\n",
            "dropout_1 (Dropout)          (None, 7, 7, 36)          0         \n",
            "_________________________________________________________________\n",
            "flatten_1 (Flatten)          (None, 1764)              0         \n",
            "_________________________________________________________________\n",
            "dense_1 (Dense)              (None, 128)               225920    \n",
            "_________________________________________________________________\n",
            "dropout_2 (Dropout)          (None, 128)               0         \n",
            "_________________________________________________________________\n",
            "dense_2 (Dense)              (None, 10)                1290      \n",
            "=================================================================\n",
            "Total params: 242,062.0\n",
            "Trainable params: 242,062.0\n",
            "Non-trainable params: 0.0\n",
            "_________________________________________________________________\n",
            "None\n"
          ],
          "name": "stdout"
        }
      ]
    },
    {
      "cell_type": "code",
      "metadata": {
        "id": "t5WFdWPLLofd"
      },
      "source": [
        "#print(model.summary())"
      ],
      "execution_count": 22,
      "outputs": []
    },
    {
      "cell_type": "markdown",
      "metadata": {
        "id": "28zdM2bjLwEi"
      },
      "source": [
        "### **Started to train**"
      ]
    },
    {
      "cell_type": "code",
      "metadata": {
        "id": "BnHTPCceL1Gi"
      },
      "source": [
        "model.compile(loss='categorical_crossentropy',optimizer='adam',metrics=['accuracy'])\r\n",
        "### categorical_crossentropy is used for multi-class classification.\r\n",
        "### binary_crossentropy is used for binary classification.\r\n",
        "\r\n"
      ],
      "execution_count": 23,
      "outputs": []
    },
    {
      "cell_type": "code",
      "metadata": {
        "colab": {
          "base_uri": "https://localhost:8080/"
        },
        "id": "P81XQad0MAUD",
        "outputId": "702fc37f-9c65-49d2-b0d7-5a25f6f8ef96"
      },
      "source": [
        "train_history=model.fit(x=x_Train4D_normalise,y=y_TrainOneHot,validation_split=0.20,epochs=10,batch_size=300,verbose=2)"
      ],
      "execution_count": 24,
      "outputs": [
        {
          "output_type": "stream",
          "text": [
            "Train on 48000 samples, validate on 12000 samples\n",
            "Epoch 1/10\n",
            "94s - loss: 0.5308 - acc: 0.8324 - val_loss: 0.1031 - val_acc: 0.9687\n",
            "Epoch 2/10\n",
            "95s - loss: 0.1620 - acc: 0.9520 - val_loss: 0.0670 - val_acc: 0.9800\n",
            "Epoch 3/10\n",
            "96s - loss: 0.1202 - acc: 0.9631 - val_loss: 0.0509 - val_acc: 0.9842\n",
            "Epoch 4/10\n",
            "94s - loss: 0.0988 - acc: 0.9695 - val_loss: 0.0446 - val_acc: 0.9866\n",
            "Epoch 5/10\n",
            "94s - loss: 0.0847 - acc: 0.9741 - val_loss: 0.0394 - val_acc: 0.9883\n",
            "Epoch 6/10\n",
            "95s - loss: 0.0784 - acc: 0.9762 - val_loss: 0.0377 - val_acc: 0.9890\n",
            "Epoch 7/10\n",
            "94s - loss: 0.0676 - acc: 0.9799 - val_loss: 0.0382 - val_acc: 0.9893\n",
            "Epoch 8/10\n",
            "94s - loss: 0.0614 - acc: 0.9814 - val_loss: 0.0327 - val_acc: 0.9902\n",
            "Epoch 9/10\n",
            "94s - loss: 0.0581 - acc: 0.9820 - val_loss: 0.0331 - val_acc: 0.9904\n",
            "Epoch 10/10\n",
            "95s - loss: 0.0539 - acc: 0.9833 - val_loss: 0.0319 - val_acc: 0.9911\n"
          ],
          "name": "stdout"
        }
      ]
    },
    {
      "cell_type": "markdown",
      "metadata": {
        "id": "WB1oyrTGn2pf"
      },
      "source": [
        "###  **Start to plot graph to compare the accuracy and loss**\r\n"
      ]
    },
    {
      "cell_type": "code",
      "metadata": {
        "id": "hIz2bb4-VApq"
      },
      "source": [
        "from matplotlib import pyplot as plt"
      ],
      "execution_count": 35,
      "outputs": []
    },
    {
      "cell_type": "code",
      "metadata": {
        "id": "GoflOE_KMifa"
      },
      "source": [
        "def show_train_history(train_history,train,validation):\r\n",
        "  plt.plot(train_history.history[train])   ### the training model will be stored into dictionary that why we can rethreived it like this.\r\n",
        "  plt.plot(train_history.history[validation])\r\n",
        "  plt.title('Train History')\r\n",
        "  plt.ylabel('Train')\r\n",
        "  plt.xlabel('Epoch')\r\n",
        "  plt.legend(['train','validation'],loc='upper left')\r\n",
        "  plt.show()"
      ],
      "execution_count": 36,
      "outputs": []
    },
    {
      "cell_type": "code",
      "metadata": {
        "colab": {
          "base_uri": "https://localhost:8080/",
          "height": 295
        },
        "id": "2TzcdUpqUBBc",
        "outputId": "8ce8a8f2-f935-4c9b-bb6d-84659d0f0983"
      },
      "source": [
        "show_train_history(train_history,'acc','val_acc')"
      ],
      "execution_count": 37,
      "outputs": [
        {
          "output_type": "display_data",
          "data": {
            "image/png": "[encoded data removed]",
            "text/plain": [
              "<Figure size 432x288 with 1 Axes>"
            ]
          },
          "metadata": {
            "tags": [],
            "needs_background": "light"
          }
        }
      ]
    },
    {
      "cell_type": "code",
      "metadata": {
        "colab": {
          "base_uri": "https://localhost:8080/",
          "height": 295
        },
        "id": "SM2oR682U9I0",
        "outputId": "86479e66-d985-451a-9c67-815a5fa0bc8d"
      },
      "source": [
        "show_train_history(train_history,'loss','val_loss')"
      ],
      "execution_count": 38,
      "outputs": [
        {
          "output_type": "display_data",
          "data": {
            "image/png": "[encoded data removed]",
            "text/plain": [
              "<Figure size 432x288 with 1 Axes>"
            ]
          },
          "metadata": {
            "tags": [],
            "needs_background": "light"
          }
        }
      ]
    },
    {
      "cell_type": "markdown",
      "metadata": {
        "id": "Th4CqNbFVjR8"
      },
      "source": [
        "#### **Evaluate the Model Accuracy**"
      ]
    },
    {
      "cell_type": "code",
      "metadata": {
        "colab": {
          "base_uri": "https://localhost:8080/"
        },
        "id": "kC4nVuYnVd97",
        "outputId": "1378a742-4ad0-4fd0-dbba-fb9878bed5c2"
      },
      "source": [
        "scores=model.evaluate(x_Test4D_normalise,y_TestOnheHot) ### evaluate only used for testing images and labels\r\n",
        "print()\r\n",
        "print(\"Accuracy=\",scores[1])"
      ],
      "execution_count": 39,
      "outputs": [
        {
          "output_type": "stream",
          "text": [
            " 9952/10000 [============================>.] - ETA: 0s\n",
            "Accuracy= 0.991\n"
          ],
          "name": "stdout"
        }
      ]
    },
    {
      "cell_type": "code",
      "metadata": {
        "colab": {
          "base_uri": "https://localhost:8080/"
        },
        "id": "tcy_OkG-V_jp",
        "outputId": "b4ff4f73-ae77-4a42-e352-70ef545d695d"
      },
      "source": [
        "prediction=model.predict_classes(x_Test4D_normalise)"
      ],
      "execution_count": 40,
      "outputs": [
        {
          "output_type": "stream",
          "text": [
            " 9984/10000 [============================>.] - ETA: 0s"
          ],
          "name": "stdout"
        }
      ]
    },
    {
      "cell_type": "code",
      "metadata": {
        "colab": {
          "base_uri": "https://localhost:8080/"
        },
        "id": "h6BzaZpfWSwU",
        "outputId": "5eaa7719-43b0-43d7-fb14-09bfbffea470"
      },
      "source": [
        "prediction"
      ],
      "execution_count": 41,
      "outputs": [
        {
          "output_type": "execute_result",
          "data": {
            "text/plain": [
              "array([7, 2, 1, ..., 4, 5, 6])"
            ]
          },
          "metadata": {
            "tags": []
          },
          "execution_count": 41
        }
      ]
    },
    {
      "cell_type": "code",
      "metadata": {
        "id": "6Y5VuqrGWxUa"
      },
      "source": [
        "def plot_images_labels_prediction(images,labels,prediction,idx,num=10):\r\n",
        "  fig=plt.gcf()\r\n",
        "  fig.set_size_inches(12,14)\r\n",
        "  if num>25:num=25          ### set the number to 25 if exceed it will set to 25\r\n",
        "  for i in range(0,num):\r\n",
        "    ax=plt.subplot(5,5,1+i)  ## increase by 1 everytime\r\n",
        "    ax.imshow(images[idx],cmap='binary') #### plot the graph\r\n",
        "    title='label='+str(labels[idx])      ####  set the title\r\n",
        "\r\n",
        "    if len(prediction)>0:\r\n",
        "      title+=\",predict=\"+str(prediction[idx])\r\n",
        "    ax.set_title(title,fontsize=10)\r\n",
        "    ax.set_xticks([]);ax.set_yticks([]) ### wont show the scale for x axis and y axis\r\n",
        "\r\n",
        "    idx+=1\r\n",
        "plt.show()"
      ],
      "execution_count": 42,
      "outputs": []
    },
    {
      "cell_type": "code",
      "metadata": {
        "colab": {
          "base_uri": "https://localhost:8080/",
          "height": 321
        },
        "id": "BjFJlpXwblsa",
        "outputId": "ab6423e6-cdcf-4bca-8fd5-2aa90d5e0926"
      },
      "source": [
        "plot_images_labels_prediction(x_Test,y_Test,prediction,idx=0)"
      ],
      "execution_count": 43,
      "outputs": [
        {
          "output_type": "display_data",
          "data": {
            "image/png": "[encoded data removed]",
            "text/plain": [
              "<Figure size 864x1008 with 10 Axes>"
            ]
          },
          "metadata": {
            "tags": []
          }
        }
      ]
    },
    {
      "cell_type": "markdown",
      "metadata": {
        "id": "T-Lz_p_9sZRl"
      },
      "source": [
        "### **Construct Confusion Matrix**"
      ]
    },
    {
      "cell_type": "code",
      "metadata": {
        "id": "5NMnC5w9bvtt",
        "colab": {
          "base_uri": "https://localhost:8080/",
          "height": 379
        },
        "outputId": "6e2f744b-8de3-451a-8741-965a7716dddb"
      },
      "source": [
        "import pandas as pd\r\n",
        "pd.crosstab(y_Test,prediction,\r\n",
        "            rownames=['label'],colnames=['predict'])"
      ],
      "execution_count": 44,
      "outputs": [
        {
          "output_type": "execute_result",
          "data": {
            "text/html": [
              "<div>\n",
              "<style scoped>\n",
              "    .dataframe tbody tr th:only-of-type {\n",
              "        vertical-align: middle;\n",
              "    }\n",
              "\n",
              "    .dataframe tbody tr th {\n",
              "        vertical-align: top;\n",
              "    }\n",
              "\n",
              "    .dataframe thead th {\n",
              "        text-align: right;\n",
              "    }\n",
              "</style>\n",
              "<table border=\"1\" class=\"dataframe\">\n",
              "  <thead>\n",
              "    <tr style=\"text-align: right;\">\n",
              "      <th>predict</th>\n",
              "      <th>0</th>\n",
              "      <th>1</th>\n",
              "      <th>2</th>\n",
              "      <th>3</th>\n",
              "      <th>4</th>\n",
              "      <th>5</th>\n",
              "      <th>6</th>\n",
              "      <th>7</th>\n",
              "      <th>8</th>\n",
              "      <th>9</th>\n",
              "    </tr>\n",
              "    <tr>\n",
              "      <th>label</th>\n",
              "      <th></th>\n",
              "      <th></th>\n",
              "      <th></th>\n",
              "      <th></th>\n",
              "      <th></th>\n",
              "      <th></th>\n",
              "      <th></th>\n",
              "      <th></th>\n",
              "      <th></th>\n",
              "      <th></th>\n",
              "    </tr>\n",
              "  </thead>\n",
              "  <tbody>\n",
              "    <tr>\n",
              "      <th>0</th>\n",
              "      <td>975</td>\n",
              "      <td>1</td>\n",
              "      <td>0</td>\n",
              "      <td>0</td>\n",
              "      <td>0</td>\n",
              "      <td>0</td>\n",
              "      <td>1</td>\n",
              "      <td>1</td>\n",
              "      <td>2</td>\n",
              "      <td>0</td>\n",
              "    </tr>\n",
              "    <tr>\n",
              "      <th>1</th>\n",
              "      <td>0</td>\n",
              "      <td>1130</td>\n",
              "      <td>1</td>\n",
              "      <td>0</td>\n",
              "      <td>0</td>\n",
              "      <td>1</td>\n",
              "      <td>1</td>\n",
              "      <td>1</td>\n",
              "      <td>1</td>\n",
              "      <td>0</td>\n",
              "    </tr>\n",
              "    <tr>\n",
              "      <th>2</th>\n",
              "      <td>2</td>\n",
              "      <td>0</td>\n",
              "      <td>1024</td>\n",
              "      <td>0</td>\n",
              "      <td>1</td>\n",
              "      <td>0</td>\n",
              "      <td>0</td>\n",
              "      <td>2</td>\n",
              "      <td>3</td>\n",
              "      <td>0</td>\n",
              "    </tr>\n",
              "    <tr>\n",
              "      <th>3</th>\n",
              "      <td>0</td>\n",
              "      <td>0</td>\n",
              "      <td>0</td>\n",
              "      <td>1005</td>\n",
              "      <td>0</td>\n",
              "      <td>2</td>\n",
              "      <td>0</td>\n",
              "      <td>2</td>\n",
              "      <td>1</td>\n",
              "      <td>0</td>\n",
              "    </tr>\n",
              "    <tr>\n",
              "      <th>4</th>\n",
              "      <td>0</td>\n",
              "      <td>0</td>\n",
              "      <td>0</td>\n",
              "      <td>0</td>\n",
              "      <td>978</td>\n",
              "      <td>0</td>\n",
              "      <td>1</td>\n",
              "      <td>0</td>\n",
              "      <td>1</td>\n",
              "      <td>2</td>\n",
              "    </tr>\n",
              "    <tr>\n",
              "      <th>5</th>\n",
              "      <td>1</td>\n",
              "      <td>0</td>\n",
              "      <td>0</td>\n",
              "      <td>3</td>\n",
              "      <td>0</td>\n",
              "      <td>886</td>\n",
              "      <td>2</td>\n",
              "      <td>0</td>\n",
              "      <td>0</td>\n",
              "      <td>0</td>\n",
              "    </tr>\n",
              "    <tr>\n",
              "      <th>6</th>\n",
              "      <td>4</td>\n",
              "      <td>2</td>\n",
              "      <td>0</td>\n",
              "      <td>0</td>\n",
              "      <td>1</td>\n",
              "      <td>1</td>\n",
              "      <td>950</td>\n",
              "      <td>0</td>\n",
              "      <td>0</td>\n",
              "      <td>0</td>\n",
              "    </tr>\n",
              "    <tr>\n",
              "      <th>7</th>\n",
              "      <td>0</td>\n",
              "      <td>3</td>\n",
              "      <td>5</td>\n",
              "      <td>2</td>\n",
              "      <td>0</td>\n",
              "      <td>0</td>\n",
              "      <td>0</td>\n",
              "      <td>1015</td>\n",
              "      <td>1</td>\n",
              "      <td>2</td>\n",
              "    </tr>\n",
              "    <tr>\n",
              "      <th>8</th>\n",
              "      <td>2</td>\n",
              "      <td>1</td>\n",
              "      <td>1</td>\n",
              "      <td>0</td>\n",
              "      <td>0</td>\n",
              "      <td>1</td>\n",
              "      <td>0</td>\n",
              "      <td>2</td>\n",
              "      <td>961</td>\n",
              "      <td>6</td>\n",
              "    </tr>\n",
              "    <tr>\n",
              "      <th>9</th>\n",
              "      <td>1</td>\n",
              "      <td>4</td>\n",
              "      <td>0</td>\n",
              "      <td>2</td>\n",
              "      <td>7</td>\n",
              "      <td>2</td>\n",
              "      <td>0</td>\n",
              "      <td>6</td>\n",
              "      <td>1</td>\n",
              "      <td>986</td>\n",
              "    </tr>\n",
              "  </tbody>\n",
              "</table>\n",
              "</div>"
            ],
            "text/plain": [
              "predict    0     1     2     3    4    5    6     7    8    9\n",
              "label                                                        \n",
              "0        975     1     0     0    0    0    1     1    2    0\n",
              "1          0  1130     1     0    0    1    1     1    1    0\n",
              "2          2     0  1024     0    1    0    0     2    3    0\n",
              "3          0     0     0  1005    0    2    0     2    1    0\n",
              "4          0     0     0     0  978    0    1     0    1    2\n",
              "5          1     0     0     3    0  886    2     0    0    0\n",
              "6          4     2     0     0    1    1  950     0    0    0\n",
              "7          0     3     5     2    0    0    0  1015    1    2\n",
              "8          2     1     1     0    0    1    0     2  961    6\n",
              "9          1     4     0     2    7    2    0     6    1  986"
            ]
          },
          "metadata": {
            "tags": []
          },
          "execution_count": 44
        }
      ]
    },
    {
      "cell_type": "code",
      "metadata": {
        "id": "mNjkqU7Vsz52"
      },
      "source": [
        ""
      ],
      "execution_count": null,
      "outputs": []
    }
  ]
}